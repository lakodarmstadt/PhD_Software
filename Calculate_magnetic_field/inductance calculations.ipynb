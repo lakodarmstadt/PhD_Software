{
 "cells": [
  {
   "cell_type": "code",
   "execution_count": 59,
   "metadata": {},
   "outputs": [],
   "source": [
    "import scipy.special\n",
    "import numpy as np"
   ]
  },
  {
   "cell_type": "code",
   "execution_count": 61,
   "metadata": {},
   "outputs": [
    {
     "name": "stdout",
     "output_type": "stream",
     "text": [
      "-88.6817737754\n",
      "6.36151516403\n"
     ]
    }
   ],
   "source": [
    "def M4(d,a):\n",
    "    k=2*a/(np.sqrt(4*a**2+d**2))\n",
    "    k0=(1-k)/(1+k)\n",
    "    M=4*np.pi*a*((scipy.special.ellipk(k0**2))*(k*(1+k))**(-1)-(1+k/k)*scipy.special.ellipe(k0**2))\n",
    "    return M\n",
    "    \n",
    "def M6(d,a):\n",
    "    r1=np.sqrt(4*a**2+d**2)\n",
    "    r2=d\n",
    "    k1=(r1-r2)/(r1+r2)\n",
    "    M=2*np.pi**2*k1**1.5*a*(1+(3./8.)*k1**2+(15./64.)*k1**4+(175./1024.)*k1**6)\n",
    "    #M=2*np.pi**2*k1**1.5*a\n",
    "    #M=1\n",
    "    \n",
    "    return M\n",
    "    \n",
    "d=6.85\n",
    "a=3.735\n",
    "print(M4(d,a))\n",
    "print(M6(d,a))"
   ]
  },
  {
   "cell_type": "code",
   "execution_count": null,
   "metadata": {},
   "outputs": [],
   "source": []
  }
 ],
 "metadata": {
  "kernelspec": {
   "display_name": "Python 3",
   "language": "python",
   "name": "python3"
  },
  "language_info": {
   "codemirror_mode": {
    "name": "ipython",
    "version": 2
   },
   "file_extension": ".py",
   "mimetype": "text/x-python",
   "name": "python",
   "nbconvert_exporter": "python",
   "pygments_lexer": "ipython2",
   "version": "2.7.12"
  }
 },
 "nbformat": 4,
 "nbformat_minor": 2
}
