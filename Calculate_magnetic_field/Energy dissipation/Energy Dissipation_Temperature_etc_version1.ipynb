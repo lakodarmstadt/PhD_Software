{
 "cells": [
  {
   "cell_type": "code",
   "execution_count": 2,
   "metadata": {},
   "outputs": [],
   "source": [
    "# This script is used to calculate the energy dissipation and the temperature of the MOT-coils"
   ]
  },
  {
   "cell_type": "code",
   "execution_count": 3,
   "metadata": {},
   "outputs": [],
   "source": [
    "#Version 1: "
   ]
  },
  {
   "cell_type": "code",
   "execution_count": 4,
   "metadata": {},
   "outputs": [],
   "source": [
    "import numpy as np\n",
    "import scipy.optimize as opt\n",
    "import scipy.constants as const\n",
    "import timeit\n",
    "import transforms3d #To get rotation matrices\n",
    "import math\n",
    "import itertools\n",
    "import matplotlib.pyplot as plt\n",
    "from mpl_toolkits.mplot3d import Axes3D"
   ]
  },
  {
   "cell_type": "code",
   "execution_count": 5,
   "metadata": {},
   "outputs": [],
   "source": [
    "# Berechne Spulenwiderstand in Abhängigkeit von Temperatur, Länge und Drahtradius:\n",
    "# Formel von J.Sattler\n",
    "def resistance(T,r,l):\n",
    "    '''T in K, r in m, l in m\n",
    "    Nach Demtröder Exp. 2: rho(T)=rho_0*(1+alpha(T-T_0))\n",
    "    mit rho_0=0.016/10**-6 Ohmmeter, alpha=4*10**-3 K\n",
    "    '''\n",
    "    R=0.0178*10**(-6)*(1+0.004*(T-273.15))*l/(np.pi*r**2)\n",
    "    return R"
   ]
  },
  {
   "cell_type": "code",
   "execution_count": 13,
   "metadata": {},
   "outputs": [
    {
     "name": "stdout",
     "output_type": "stream",
     "text": [
      "3.2554086820625066\n",
      "0.13706983924473712\n",
      "0.3671513551198316\n",
      "0.5140118971677642\n",
      "0.7232065803960416\n",
      "0.3505313349292219\n"
     ]
    }
   ],
   "source": [
    "print(resistance(293.15,0.0005,133)) #Neue Konfiguration\n",
    "print(resistance(293.15,0.0005,5.6)) # Alte Konfiguration\n",
    "print(resistance(293.15,0.0005,15)) \n",
    "print(resistance(293.15,0.0005,21)) \n",
    "print(resistance(293.15,0.000375,16.62))\n",
    "print(resistance(293.15,0.00045,11.6))"
   ]
  },
  {
   "cell_type": "code",
   "execution_count": 8,
   "metadata": {},
   "outputs": [],
   "source": [
    "#Dissipierte Leistung:\n",
    "def diss_power(R,I):\n",
    "    return R*(I**2)"
   ]
  },
  {
   "cell_type": "code",
   "execution_count": 19,
   "metadata": {},
   "outputs": [
    {
     "name": "stdout",
     "output_type": "stream",
     "text": [
      "109.4982\n",
      "4.6086800000000006\n",
      "12.34588\n",
      "17.290960000000002\n",
      "24.32172\n",
      "18.70435203182328\n"
     ]
    }
   ],
   "source": [
    "print(diss_power(3.255,5.8))\n",
    "print(diss_power(0.137,5.8))\n",
    "print(diss_power(0.367,5.8))\n",
    "print(diss_power(0.514,5.8))\n",
    "print(diss_power(0.723,5.8))\n",
    "print(diss_power(resistance(293.15,0.00045,18.4),5.8))"
   ]
  },
  {
   "cell_type": "code",
   "execution_count": 21,
   "metadata": {},
   "outputs": [],
   "source": [
    "# Berechne Spulenoberfläche:\n",
    "def coil_surface_area(r_in,r_out,h):\n",
    "    '''r_in: inner radius\n",
    "    r_out: outer radius\n",
    "    h: height\n",
    "    '''\n",
    "    surface_area=2*np.pi*h*(r_in+r_out)+2*np.pi*(r_out**2-r_in**2)\n",
    "    return surface_area"
   ]
  },
  {
   "cell_type": "code",
   "execution_count": 23,
   "metadata": {},
   "outputs": [
    {
     "ename": "TypeError",
     "evalue": "'float' object is not callable",
     "output_type": "error",
     "traceback": [
      "\u001b[0;31m---------------------------------------------------------------------------\u001b[0m",
      "\u001b[0;31mTypeError\u001b[0m                                 Traceback (most recent call last)",
      "\u001b[0;32m<ipython-input-23-aaf8d7a361b6>\u001b[0m in \u001b[0;36m<module>\u001b[0;34m()\u001b[0m\n\u001b[0;32m----> 1\u001b[0;31m \u001b[0mcoil_surface_area\u001b[0m\u001b[0;34m=\u001b[0m\u001b[0mcoil_surface_area\u001b[0m\u001b[0;34m(\u001b[0m\u001b[0;36m0.0775\u001b[0m\u001b[0;34m,\u001b[0m\u001b[0;36m0.09\u001b[0m\u001b[0;34m,\u001b[0m\u001b[0;36m0.03\u001b[0m\u001b[0;34m)\u001b[0m\u001b[0;34m\u001b[0m\u001b[0m\n\u001b[0m\u001b[1;32m      2\u001b[0m \u001b[0;32mprint\u001b[0m\u001b[0;34m(\u001b[0m\u001b[0mcoil_surface_area\u001b[0m\u001b[0;34m)\u001b[0m\u001b[0;34m\u001b[0m\u001b[0m\n",
      "\u001b[0;31mTypeError\u001b[0m: 'float' object is not callable"
     ]
    }
   ],
   "source": [
    "coil_surface_area=coil_surface_area(0.0775,0.09,0.03)\n",
    "print(coil_surface_area)"
   ]
  },
  {
   "cell_type": "code",
   "execution_count": 15,
   "metadata": {},
   "outputs": [],
   "source": [
    "# Berechne Wärmeübergangskoeffizienten:\n",
    "def heat_transfer_coeff(A,T,T_M):\n",
    "    alpha=3.5\n",
    "    return alpha*A*(T-T_M)\n",
    "\n",
    "# Berechne abgegebene und aufgenommene Stefan-Boltzmann Strahlungsenergie\n",
    "def Stefan_Boltzmann(A,T):\n",
    "    return (2*np.pi**5*const.k**4/(15*const.h**3*const.c**2)*A*T**4)\n",
    "\n",
    "# Gesamtenergiebilanz:\n",
    "def tot_heat_balance(T,A, T_M,alpha, I,R):\n",
    "    total=Stefan_Boltzmann(A,T_M)-Stefan_Boltzmann(A,T)-alpha*A*(T-T_M)+I**2*R\n",
    "    return total"
   ]
  },
  {
   "cell_type": "code",
   "execution_count": 24,
   "metadata": {},
   "outputs": [
    {
     "data": {
      "text/plain": [
       "    fjac: array([[-1.]])\n",
       "     fun: array([  2.84217094e-14])\n",
       " message: 'The solution converged.'\n",
       "    nfev: 9\n",
       "     qtf: array([ -2.56817145e-09])\n",
       "       r: array([ 0.91076555])\n",
       "  status: 1\n",
       " success: True\n",
       "       x: array([ 497.73772381])"
      ]
     },
     "execution_count": 24,
     "metadata": {},
     "output_type": "execute_result"
    }
   ],
   "source": [
    "#Find temperature of the coil in stationary equilibrium: (Total energy balance =0)\n",
    "def fun(x):\n",
    "    return tot_heat_balance(x,coil_surface_area,293.15,3.5,5.8,3.25)\n",
    "opt.root(fun,400)"
   ]
  },
  {
   "cell_type": "code",
   "execution_count": 19,
   "metadata": {},
   "outputs": [
    {
     "data": {
      "text/plain": [
       "-0.004593057151240032"
      ]
     },
     "execution_count": 19,
     "metadata": {},
     "output_type": "execute_result"
    }
   ],
   "source": [
    "tot_heat_balance(449.70,coil_surface_area,293.15,3.5,5.8,3.255)"
   ]
  },
  {
   "cell_type": "code",
   "execution_count": 14,
   "metadata": {},
   "outputs": [
    {
     "data": {
      "text/plain": [
       "56.85000000000002"
      ]
     },
     "execution_count": 14,
     "metadata": {},
     "output_type": "execute_result"
    }
   ],
   "source": [
    "330-273.15"
   ]
  },
  {
   "cell_type": "code",
   "execution_count": null,
   "metadata": {},
   "outputs": [],
   "source": []
  }
 ],
 "metadata": {
  "kernelspec": {
   "display_name": "Python 3",
   "language": "python",
   "name": "python3"
  },
  "language_info": {
   "codemirror_mode": {
    "name": "ipython",
    "version": 3
   },
   "file_extension": ".py",
   "mimetype": "text/x-python",
   "name": "python",
   "nbconvert_exporter": "python",
   "pygments_lexer": "ipython3",
   "version": "3.6.4"
  }
 },
 "nbformat": 4,
 "nbformat_minor": 2
}
