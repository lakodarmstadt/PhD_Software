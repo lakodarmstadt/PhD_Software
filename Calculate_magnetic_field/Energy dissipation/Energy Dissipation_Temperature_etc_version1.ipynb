{
 "cells": [
  {
   "cell_type": "code",
   "execution_count": 2,
   "metadata": {},
   "outputs": [],
   "source": [
    "# This script is used to calculate the energy dissipation and the temperature of the MOT-coils"
   ]
  },
  {
   "cell_type": "code",
   "execution_count": 3,
   "metadata": {},
   "outputs": [],
   "source": [
    "#Version 1: "
   ]
  },
  {
   "cell_type": "code",
   "execution_count": 10,
   "metadata": {},
   "outputs": [],
   "source": [
    "import numpy as np\n",
    "import scipy.optimize as opt\n",
    "import scipy.constants as const\n",
    "import timeit\n",
    "import transforms3d #To get rotation matrices\n",
    "import math\n",
    "import itertools\n",
    "import matplotlib.pyplot as plt\n",
    "from mpl_toolkits.mplot3d import Axes3D"
   ]
  },
  {
   "cell_type": "code",
   "execution_count": 11,
   "metadata": {},
   "outputs": [],
   "source": [
    "# Berechne Spulenwiderstand in Abhängigkeit von Temperatur, Länge und Drahtradius:\n",
    "# Formel von J.Sattler\n",
    "def resistance(T,r,l):\n",
    "    '''T in K, r in m, l in m\n",
    "    Nach Demtröder Exp. 2: rho(T)=rho_0*(1+alpha(T-T_0))\n",
    "    mit rho_0=0.016/10**-6 Ohmmeter, alpha=4*10**-3 K\n",
    "    '''\n",
    "    R=0.0178*10**(-6)*(1+0.004*(T-273.15))*l/(np.pi*r**2)\n",
    "    return R"
   ]
  },
  {
   "cell_type": "code",
   "execution_count": 13,
   "metadata": {},
   "outputs": [
    {
     "name": "stdout",
     "output_type": "stream",
     "text": [
      "3.2554086820625066\n",
      "0.13706983924473712\n",
      "0.3671513551198316\n",
      "0.5140118971677642\n",
      "0.7232065803960416\n",
      "0.3916281121278203\n"
     ]
    }
   ],
   "source": [
    "print(resistance(293.15,0.0005,133)) #Neue Konfiguration\n",
    "print(resistance(293.15,0.0005,5.6)) # Alte Konfiguration\n",
    "print(resistance(293.15,0.0005,15)) \n",
    "print(resistance(293.15,0.0005,21)) \n",
    "print(resistance(293.15,0.000375,16.62))\n",
    "print(resistance(293.15,0.000625,25))"
   ]
  },
  {
   "cell_type": "code",
   "execution_count": 1,
   "metadata": {},
   "outputs": [],
   "source": [
    "#Dissipierte Leistung:\n",
    "def diss_power(R,I):\n",
    "    return R*(I**2)"
   ]
  },
  {
   "cell_type": "code",
   "execution_count": 18,
   "metadata": {},
   "outputs": [
    {
     "name": "stdout",
     "output_type": "stream",
     "text": [
      "109.4982\n",
      "4.6086800000000006\n",
      "12.34588\n",
      "17.290960000000002\n",
      "24.32172\n",
      "5.9237325\n",
      "9.840709200000001\n",
      "15.6329425\n",
      "13.23786009\n",
      "10.936819110000004\n",
      "9.16554996\n"
     ]
    }
   ],
   "source": [
    "print(diss_power(3.255,5.8))\n",
    "print(diss_power(0.137,5.8))\n",
    "print(diss_power(0.367,5.8))\n",
    "print(diss_power(0.514,5.8))\n",
    "print(diss_power(0.723,5.8))\n",
    "# print(diss_power(resistance(293.15,0.00045,18.4),5.8))\n",
    "print(diss_power(21*0.01393,4.5))\n",
    "print(diss_power(21*0.01393,5.8)) \n",
    "print(diss_power(25*0.01393,6.7)) #(15 Wicklungen, 1.3mm Draht)\n",
    "print(diss_power(27.3*0.01393,5.9)) #(16 Wicklungen, 1.3mm Draht)\n",
    "print(diss_power(32.7*0.01393,4.9)) #(17 Wicklungen, 1.3mm Draht)\n",
    "print(diss_power(37.3*0.01393,4.2)) #(18 Wicklungen, 1.3mm Draht)"
   ]
  },
  {
   "cell_type": "code",
   "execution_count": 20,
   "metadata": {},
   "outputs": [],
   "source": [
    "# Berechne Spulenoberfläche:\n",
    "def coil_surface_area(r_in,r_out,h):\n",
    "    '''r_in: inner radius\n",
    "    r_out: outer radius\n",
    "    h: height\n",
    "    '''\n",
    "    surface_area=2*np.pi*h*(r_in+r_out)+2*np.pi*(r_out**2-r_in**2)\n",
    "    return surface_area"
   ]
  },
  {
   "cell_type": "code",
   "execution_count": 21,
   "metadata": {},
   "outputs": [
    {
     "name": "stdout",
     "output_type": "stream",
     "text": [
      "0.04472842540548467\n",
      "0.023398582083936782\n"
     ]
    }
   ],
   "source": [
    "print(coil_surface_area(0.0775,0.09,0.03)) #Quips-B ?\n",
    "print(coil_surface_area(0.026,0.05,0.025))"
   ]
  },
  {
   "cell_type": "code",
   "execution_count": 22,
   "metadata": {},
   "outputs": [],
   "source": [
    "# Berechne Wärmeübergangskoeffizienten:\n",
    "def heat_transfer_coeff(A,T,T_M):\n",
    "    alpha=3.5\n",
    "    return alpha*A*(T-T_M)\n",
    "\n",
    "# Berechne abgegebene und aufgenommene Stefan-Boltzmann Strahlungsenergie\n",
    "def Stefan_Boltzmann(A,T):\n",
    "    return (2*np.pi**5*const.k**4/(15*const.h**3*const.c**2)*A*T**4)\n",
    "\n",
    "# Gesamtenergiebilanz:\n",
    "def tot_heat_balance(T,A, T_M,alpha, I,R):\n",
    "    total=Stefan_Boltzmann(A,T_M)-Stefan_Boltzmann(A,T)-alpha*A*(T-T_M)+I**2*R\n",
    "    return total"
   ]
  },
  {
   "cell_type": "code",
   "execution_count": 26,
   "metadata": {},
   "outputs": [
    {
     "data": {
      "text/plain": [
       "    fjac: array([[-1.]])\n",
       "     fun: array([-1.88293825e-13])\n",
       " message: 'The solution converged.'\n",
       "    nfev: 8\n",
       "     qtf: array([7.48886997e-08])\n",
       "       r: array([0.27396415])\n",
       "  status: 1\n",
       " success: True\n",
       "       x: array([330.7742951])"
      ]
     },
     "execution_count": 26,
     "metadata": {},
     "output_type": "execute_result"
    }
   ],
   "source": [
    "#Find temperature of the coil in stationary equilibrium: (Total energy balance =0)\n",
    "def fun(x):\n",
    "    return tot_heat_balance(x,0.02339858,293.15,3.5,4.2,37.3*0.01393)\n",
    "opt.root(fun,400)"
   ]
  },
  {
   "cell_type": "code",
   "execution_count": 25,
   "metadata": {},
   "outputs": [
    {
     "data": {
      "text/plain": [
       "-2.6030272700767814"
      ]
     },
     "execution_count": 25,
     "metadata": {},
     "output_type": "execute_result"
    }
   ],
   "source": [
    "tot_heat_balance(340,0.02339858,293.15,3.5,4.2,37.3*0.01393)"
   ]
  },
  {
   "cell_type": "code",
   "execution_count": 14,
   "metadata": {},
   "outputs": [
    {
     "data": {
      "text/plain": [
       "56.85000000000002"
      ]
     },
     "execution_count": 14,
     "metadata": {},
     "output_type": "execute_result"
    }
   ],
   "source": [
    "330-273.15"
   ]
  },
  {
   "cell_type": "code",
   "execution_count": null,
   "metadata": {},
   "outputs": [],
   "source": []
  }
 ],
 "metadata": {
  "kernelspec": {
   "display_name": "Python 3",
   "language": "python",
   "name": "python3"
  },
  "language_info": {
   "codemirror_mode": {
    "name": "ipython",
    "version": 3
   },
   "file_extension": ".py",
   "mimetype": "text/x-python",
   "name": "python",
   "nbconvert_exporter": "python",
   "pygments_lexer": "ipython3",
   "version": "3.6.4"
  }
 },
 "nbformat": 4,
 "nbformat_minor": 2
}
