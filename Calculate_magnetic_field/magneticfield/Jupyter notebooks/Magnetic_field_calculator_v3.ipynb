{
 "cells": [
  {
   "cell_type": "code",
   "execution_count": 1,
   "metadata": {},
   "outputs": [],
   "source": [
    "# This notebook is used for testing.\n",
    "# Aim: Calculate magnetic fields of different coil configuration"
   ]
  },
  {
   "cell_type": "code",
   "execution_count": null,
   "metadata": {},
   "outputs": [],
   "source": [
    "#Version1:\n",
    "#Includes formula for calculating the B-field of a straight line from r_start to r_end at any arbitrary position\n",
    "#Includes formula to calculate B-field of many straight lines; line segments are specified using a tuple_list\n",
    "#Includes formula to create tuple_list for a single loop\n",
    "\n",
    "#Version 2:\n",
    "#Includes function to create tuple list for N loops with same current I\n",
    "\n",
    "#Version 3:\n",
    "#Includes cell to plot the coils in 3D"
   ]
  },
  {
   "cell_type": "code",
   "execution_count": 47,
   "metadata": {},
   "outputs": [],
   "source": [
    "import numpy as np\n",
    "import scipy.constants\n",
    "import timeit\n",
    "import transforms3d #To get rotation matrices\n",
    "import math\n",
    "import itertools\n",
    "import matplotlib.pyplot as plt\n",
    "from mpl_toolkits.mplot3d import Axes3D"
   ]
  },
  {
   "cell_type": "code",
   "execution_count": 3,
   "metadata": {},
   "outputs": [],
   "source": [
    "#Define constants:\n",
    "mu_0=scipy.constants.mu_0\n",
    "pi=scipy.constants.pi"
   ]
  },
  {
   "cell_type": "code",
   "execution_count": 4,
   "metadata": {},
   "outputs": [],
   "source": [
    "#Define some nice functions:\n",
    "#Function to normalize a vector:\n",
    "def normalize(a):\n",
    "    norm = np.linalg.norm(a)\n",
    "    if norm==0:\n",
    "        norm = 1\n",
    "    return a / norm\n",
    "\n",
    "#Function to get the sign of the angles of two vectors (e_r_01 and e_r_02) with respect to a third one (e_R):\n",
    "#angles 1 and 2 define the mathematically positive direction\n",
    "def angle_sign(def_vec1, def_vec2, ref_vec, vec_of_interest):\n",
    "    x=np.dot(np.cross(def_vec1,def_vec2),np.cross(ref_vec,vec_of_interest))\n",
    "    if x>0:\n",
    "        return 1\n",
    "    else:\n",
    "        return -1\n",
    "\n",
    "# Function to create rotation matrix:\n",
    "def rotation_matrix(axis, theta):\n",
    "    \"\"\"\n",
    "    Return the rotation matrix associated with counterclockwise rotation about\n",
    "    the given axis (np.array) by theta radians. See Euler–Rodrigues formula (Wikipedia)\n",
    "    \"\"\"\n",
    "    axis = normalize(axis)\n",
    "    a = np.cos(theta/2.0)\n",
    "    b, c, d = -axis*np.sin(theta/2.0)\n",
    "    aa, bb, cc, dd = a*a, b*b, c*c, d*d\n",
    "    bc, ad, ac, ab, bd, cd = b*c, a*d, a*c, a*b, b*d, c*d\n",
    "    return np.array([[aa+bb-cc-dd, 2*(bc+ad), 2*(bd-ac)],\n",
    "                     [2*(bc-ad), aa+cc-bb-dd, 2*(cd+ab)],\n",
    "                     [2*(bd+ac), 2*(cd-ab), aa+dd-bb-cc]])\n",
    "\n",
    "#Function to get the rotation angle in a regular polygon:\n",
    "def theta(N):\n",
    "    return 2*pi/N\n"
   ]
  },
  {
   "cell_type": "code",
   "execution_count": 5,
   "metadata": {},
   "outputs": [],
   "source": [
    "# Function to calculate magnetic field created by a straight piece of wire:\n",
    "def B_straight_line(r_start,r_end,r_0,I):\n",
    "    '''r_0 is the point where the B-field is calculated, the wire starts at r_start and ends at r_end, I is the current from r-start to r_end'''\n",
    "    #Define vectors and corresponding unit vectors:\n",
    "    r_01=r_start-r_0\n",
    "    e_r_01=normalize(r_01)\n",
    "    r_02=r_end-r_0\n",
    "    e_r_02=normalize(r_02)\n",
    "    r_wire=r_end-r_start\n",
    "    e_r_wire=normalize(r_wire)\n",
    "    #R is the vector from r_0 which is perpendicular to r_wire\n",
    "    e_R=np.cross(r_wire,np.cross(r_01,r_wire))/(np.linalg.norm(r_wire)*np.linalg.norm(np.cross(r_01,r_wire)))\n",
    "    R=np.linalg.norm(np.dot(r_01,e_R))*e_R\n",
    "    #checked: R is perpendicular, R has correct length and is the correct vector\n",
    "    #print(np.dot(R,r_wire)) #R perpendicular to wire if =0\n",
    "    #print(np.linalg.norm(R))\n",
    "    #print(R)\n",
    "    \n",
    "    \n",
    "    #Find angles of r_start and r_end with respect to e_R:\n",
    "    #Problem: By just taking the vector product or the dot product you get positive angles. So the plan is to use the dot product between e_r_01 and e_r_02 to define a right-handed system. If the dot-product of e_R with e_r_01/e_r_02 is in the same direction, their angle is positive with respect to e_R. -> See Function angle_sign(). \n",
    "    alpha_1=angle_sign(e_r_01,e_r_02,e_R,e_r_01)*np.arccos((np.linalg.norm(np.cross(r_start,r_wire)))/(np.linalg.norm(r_start)*np.linalg.norm(r_wire)))\n",
    "    alpha_2=angle_sign(e_r_01,e_r_02,e_R,e_r_02)*np.arccos((np.linalg.norm(np.cross(r_end,r_wire)))/(np.linalg.norm(r_end)*np.linalg.norm(r_wire)))\n",
    "    #Check angles:\n",
    "    #print(alpha_1*360/(2*pi),alpha_2*360/(2*pi))\n",
    "    \n",
    "    #Get the unit vector of the B-field\n",
    "    e_t=np.cross(e_R,e_r_wire)\n",
    "    #print(e_t)\n",
    "    \n",
    "    return mu_0*I/(4*pi*np.linalg.norm(R))*(np.sin(alpha_2)-np.sin(alpha_1))*e_t"
   ]
  },
  {
   "cell_type": "code",
   "execution_count": 6,
   "metadata": {
    "scrolled": true
   },
   "outputs": [],
   "source": [
    "#Formula for a circular loop with radius R, B-field measured on axis with distance z to the plane of the loop\n",
    "def B_circular_loop_onaxis(z,R,I):\n",
    "    return mu_0*I*R**2/(2*np.power(R**2+z**2,1.5))"
   ]
  },
  {
   "cell_type": "code",
   "execution_count": 7,
   "metadata": {},
   "outputs": [],
   "source": [
    "#Calculate B-field for snippets of straight wires described by tuples [r_start,r_end]\n",
    "def B_field(vector_list,r_0,I):\n",
    "#Map the vector tuples onto the vector arguments of B_straight line (r_start,r_end) and add all resulting B-field vectors together\n",
    "    return np.sum((map(lambda (r_start,r_end): B_straight_line(r_start,r_end,r_0,I), vector_list)), axis=0)"
   ]
  },
  {
   "cell_type": "code",
   "execution_count": 8,
   "metadata": {},
   "outputs": [],
   "source": [
    "#Create a function that creates list of vector tuples of one regular polygon loop:\n",
    "def tuple_list_single_loop(N,r_normal,r_start_side,r_center,r_in):\n",
    "    '''Function that creates list of vector tuples of a single regular polygon loop.\n",
    "    Takes arguments:\n",
    "    N: Number of edges of the polygon\n",
    "    r_normal: normal vector of the plane of the loop\n",
    "    r_start_side: vector from the center of the loop to one corner; defines rotational orientation of the loop\n",
    "    r_center: vector defining the center of the loop\n",
    "    r_in: variable defining the inner radius of the polygon'''\n",
    "    #Test that e_start and e_normal are perpendicular\n",
    "    if 0.0!=np.dot(r_normal,r_start_side):\n",
    "        print(\"vectors are not perpendicular!\")\n",
    "    e_normal=normalize(r_normal)\n",
    "    e_start_side=normalize(r_start_side)\n",
    "    r_out=r_in/(np.cos(pi/N))\n",
    "    e_start_corner=np.dot(rotation_matrix(e_normal,theta(N)/2),e_start_side) \n",
    "    r_start_corner=r_out*e_start_corner\n",
    "\n",
    "    #Create list of vector tuples:\n",
    "    #Use the starting edge vector and rotate it around the symmetry axis by 2pi/N to get the next corner. Every segment goes from one to the next corner.\n",
    "    tuple_list=[(r_center+np.dot(rotation_matrix(e_normal,i*theta(N)),r_start_corner),r_center+np.dot(rotation_matrix(e_normal,(i+1)*theta(N)),r_start_corner)) for i in range(N)]\n",
    "    return tuple_list"
   ]
  },
  {
   "cell_type": "code",
   "execution_count": 38,
   "metadata": {},
   "outputs": [],
   "source": [
    "#Function to create tuple_list for several regular polygon loops with changing parameters r_center,r_in and fixed parameters N,r_normal,r_start_side\n",
    "def tuple_list_N_loop(N,r_normal,r_start_side,param_list):\n",
    "    '''Function that creates list of vector tuples of a single regular polygon loop.\n",
    "    Takes arguments:\n",
    "    N: Number of edges of the polygon\n",
    "    r_normal: normal vector of the plane of the loop\n",
    "    r_start_side: vector from the center of the loop to one corner; defines rotational orientation of the loop\n",
    "    param_list: parameter list with tuples (r_center,r_in) where\n",
    "    r_center: vector defining the center of the loop\n",
    "    r_in: variable defining the inner radius of the polygon'''\n",
    "    #Create a list of single loop tuple lists \n",
    "    list_of_tuple_lists=map(lambda (r_center,r_in):tuple_list_single_loop(N,r_normal,r_start_side,r_center,r_in),param_list)\n",
    "    #Flatten the list to one big list\n",
    "    flattend_tuple_list=list(itertools.chain.from_iterable(list_of_tuple_lists))\n",
    "    return flattend_tuple_list"
   ]
  },
  {
   "cell_type": "code",
   "execution_count": 79,
   "metadata": {},
   "outputs": [],
   "source": [
    "#Convert tuple_list into np.array with x,y,z where x,y and z are 1D arrays that can be used for 3D plotting\n",
    "def tuple_list_converter(tuple_list):\n",
    "    #convert tuple_list to array\n",
    "    tuple_array=np.array(tuple_list)\n",
    "    #Check that tuple list has correct form:\n",
    "    n,t,d=np.shape(tuple_array)\n",
    "    if (t,d)!=(2,3) or n==0:\n",
    "        print('Tuple list has not correct shape')\n",
    "    #print(tuple_array)    \n",
    "    #print(np.shape(tuple_array))\n",
    "    #print(tuple_array[0:2,:,:])\n",
    "    #print(np.shape(tuple_array))\n",
    "    #rearranged_tuple_array=tuple_array[:,0,:].T\n",
    "    rearranged_tuple_array=tuple_array.reshape((n*t,d)).T\n",
    "    #print(np.shape(rearranged_tuple_array))\n",
    "    #print(rearranged_tuple_array)\n",
    "    #print(np.shape(rearranged_tuple_array))\n",
    "    return rearranged_tuple_array\n",
    "\n",
    "#threeD_array=tuple_list_converter(tuple_list_N_loop(N,r_normal,r_start_side,param_list))\n",
    "#print(threeD_array)"
   ]
  },
  {
   "cell_type": "code",
   "execution_count": 9,
   "metadata": {},
   "outputs": [],
   "source": [
    "#Coordinates where we want to calculate the magnetic field:\n",
    "x_0=0\n",
    "y_0=0\n",
    "z_0=0\n",
    "r_0=np.array([x_0,y_0,z_0])\n",
    "#print(r_0)\n",
    "r_start=np.array([1,1,0])\n",
    "r_end=np.array([-1,1,0])"
   ]
  },
  {
   "cell_type": "code",
   "execution_count": 10,
   "metadata": {},
   "outputs": [],
   "source": [
    "#Check formula B_straight_line:\n",
    "# Use a very long wire along the x-axis and get the B-field at arbitrary points in space\n",
    "#Coordinates where we want to calculate the magnetic field:\n",
    "x_0=0\n",
    "y_0=10\n",
    "z_0=0\n",
    "r_0=np.array([x_0,y_0,z_0])\n",
    "#print(r_0)\n",
    "r_start=np.array([-10000,0,0])\n",
    "r_end=np.array([10000,0,0])\n",
    "result=B_straight_line(r_start,r_end,r_0,1)\n",
    "#print(result)\n",
    "#print(mu_0*1/(2*pi*10))\n",
    "#Direction of field and magnitude are correct\n",
    "\n",
    "#To check the formula, using a square loop with edge length a=0.1m, current I=1A and the B-field is measured at the symmetry axis in the plane of the loop\n",
    "#Wikipedia, Biot-Savart says for a square loop on the symmetry axis and in the plane of the loop:\n",
    "def square_loop_wikicheck(a,I):\n",
    "    return (mu_0*I*2/pi)*np.sqrt(2/(a**2))\n",
    "#print(square_loop_wikicheck(0.2,1))\n",
    "#My straight-line-function\n",
    "x_0=0\n",
    "y_0=0\n",
    "z_0=0\n",
    "r_0=np.array([x_0,y_0,z_0])\n",
    "square_loop=B_straight_line(np.array([0.1,-0.1,-0.1]),np.array([0.1,0.1,-0.1]),r_0,1)+B_straight_line(np.array([0.1,0.1,-0.1]),np.array([0.1,0.1,0.1]),r_0,1)+B_straight_line(np.array([0.1,0.1,0.1]),np.array([0.1,-0.1,0.1]),r_0,1)+B_straight_line(np.array([0.1,-0.1,0.1]),np.array([0.1,-0.1,-0.1]),r_0,1)\n",
    "#print(square_loop)\n",
    "#Test passed"
   ]
  },
  {
   "cell_type": "code",
   "execution_count": 29,
   "metadata": {},
   "outputs": [
    {
     "name": "stdout",
     "output_type": "stream",
     "text": [
      "6.53197264742e-08\n",
      "5.61985178483e-08\n",
      "1.16230336627\n"
     ]
    }
   ],
   "source": [
    "#Compare Circle and regular Polygon\n",
    "r_normal=np.array([0,0,1])\n",
    "r_start_side=np.array([1,0,0])\n",
    "r_center=np.array([0,0,2])\n",
    "N=4\n",
    "r_in=1\n",
    "r_0=np.array([0,0,0])\n",
    "print(B_field(tuple_list_single_loop(N,r_normal,r_start_side,r_center,r_in),r_0,1)[2])\n",
    "print(B_circular_loop_onaxis(2,1,1))\n",
    "print(B_field(tuple_list_single_loop(N,r_normal,r_start_side,r_center,r_in),r_0,1)[2]/B_circular_loop_onaxis(2,1,1))"
   ]
  },
  {
   "cell_type": "code",
   "execution_count": 84,
   "metadata": {},
   "outputs": [
    {
     "name": "stdout",
     "output_type": "stream",
     "text": [
      "[  3.30872245e-23   2.34783079e-23   2.96259834e-07]\n"
     ]
    }
   ],
   "source": [
    "#Test tuple_list_N_loop(N,r_normal,r_start_side,param_list):\n",
    "\n",
    "r_normal=np.array([0,0,1])\n",
    "r_start_side=np.array([1,0,0])\n",
    "N=4\n",
    "r_0=np.array([0,0,0])\n",
    "#Param_list=[(r_center_1,r_in_1),...]\n",
    "param_list=[(np.array([0,0,1]),1),(np.array([0,0,2]),1)]\n",
    "#print(tuple_list_N_loop(N,r_normal,r_start_side,param_list))\n",
    "print(B_field(tuple_list_N_loop(N,r_normal,r_start_side,param_list),r_0,1))"
   ]
  },
  {
   "cell_type": "code",
   "execution_count": 87,
   "metadata": {
    "scrolled": true
   },
   "outputs": [
    {
     "data": {
      "text/plain": [
       "[<mpl_toolkits.mplot3d.art3d.Line3D at 0x7fa301f43910>]"
      ]
     },
     "execution_count": 87,
     "metadata": {},
     "output_type": "execute_result"
    },
    {
     "data": {
      "image/png": "[encoded data removed]",
      "text/plain": [
       "<matplotlib.figure.Figure at 0x7fa301f50a50>"
      ]
     },
     "metadata": {},
     "output_type": "display_data"
    }
   ],
   "source": [
    "fig = plt.figure()\n",
    "ax = fig.add_subplot(111, projection='3d')\n",
    "threeD_array=tuple_list_converter(tuple_list_N_loop(N,r_normal,r_start_side,param_list))\n",
    "#print(threeD_array)\n",
    "ax.plot(threeD_array[0],threeD_array[1],threeD_array[2],zdir='z')"
   ]
  },
  {
   "cell_type": "code",
   "execution_count": 109,
   "metadata": {},
   "outputs": [
    {
     "name": "stdout",
     "output_type": "stream",
     "text": [
      "[ 0.]\n",
      "[[ 1.  -1.   0. ]\n",
      " [ 2.  -1.   0. ]\n",
      " [ 3.  -1.   0. ]\n",
      " [ 1.  -0.5  0. ]\n",
      " [ 2.  -0.5  0. ]\n",
      " [ 3.  -0.5  0. ]\n",
      " [ 1.   0.   0. ]\n",
      " [ 2.   0.   0. ]\n",
      " [ 3.   0.   0. ]]\n"
     ]
    },
    {
     "data": {
      "text/plain": [
       "array([  3.30872245e-23,   2.34783079e-23,   2.96259834e-07])"
      ]
     },
     "execution_count": 109,
     "metadata": {},
     "output_type": "execute_result"
    }
   ],
   "source": [
    "def B_field_place(x,y,z):\n",
    "    return B_field(tuple_list_N_loop(N,r_normal,r_start_side,param_list),np.array([x,y,z]),1)\n",
    "x=np.linspace(1,3,3)\n",
    "y=np.linspace(-1,0,3)\n",
    "z=np.linspace(0,0,1)\n",
    "print(z)\n",
    "g = np.meshgrid(x, y, z)\n",
    "positions = np.vstack(map(np.ravel, g))\n",
    "print(positions.T)\n",
    "#print(map(B_field_place(x,y,z),positions))\n",
    "B_field_place(0,0,0)\n",
    "\n",
    "\n",
    "#im = plt.imshow(Z, cmap=plt.cm.RdBu, extent=(-3, 3, 3, -3))  \n",
    "#cset = plt.contour(Z, np.arange(-1, 1.5, 0.2), linewidths=2,\n",
    "#                   cmap=plt.cm.Set2,\n",
    "#                   extent=(-3, 3, -3, 3))\n",
    "#plt.clabel(cset, inline=True, fmt='%1.1f', fontsize=10)\n",
    "#plt.colorbar(im)  \n",
    "\n",
    "#plt.title('$z=(1-x^2+y^3) e^{-(x^2+y^2)/2}$')\n",
    "\n",
    "#plt.show()"
   ]
  },
  {
   "cell_type": "code",
   "execution_count": null,
   "metadata": {},
   "outputs": [],
   "source": []
  }
 ],
 "metadata": {
  "kernelspec": {
   "display_name": "Python 3",
   "language": "python",
   "name": "python3"
  },
  "language_info": {
   "codemirror_mode": {
    "name": "ipython",
    "version": 2
   },
   "file_extension": ".py",
   "mimetype": "text/x-python",
   "name": "python",
   "nbconvert_exporter": "python",
   "pygments_lexer": "ipython2",
   "version": "2.7.12"
  }
 },
 "nbformat": 4,
 "nbformat_minor": 2
}
