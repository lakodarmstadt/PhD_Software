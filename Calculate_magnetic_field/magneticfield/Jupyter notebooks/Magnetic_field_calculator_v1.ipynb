{
 "cells": [
  {
   "cell_type": "code",
   "execution_count": 36,
   "metadata": {},
   "outputs": [],
   "source": [
    "# This notebook is used for testing.\n",
    "# Aim: Calculate magnetic fields of different coil configuration"
   ]
  },
  {
   "cell_type": "code",
   "execution_count": null,
   "metadata": {},
   "outputs": [],
   "source": [
    "#Version1:\n",
    "#Includes formula for calculating the B-field of a straight line from r_start to r_end at any arbitrary position\n",
    "#Includes formula to calculate B-field of many straight lines; line segments are specified using a tuple_list\n",
    "#Includes formula to create tuple_list for a single loop"
   ]
  },
  {
   "cell_type": "code",
   "execution_count": 53,
   "metadata": {},
   "outputs": [],
   "source": [
    "import numpy as np\n",
    "import scipy.constants\n",
    "import timeit\n",
    "import transforms3d #To get rotation matrices\n",
    "import math"
   ]
  },
  {
   "cell_type": "code",
   "execution_count": 38,
   "metadata": {},
   "outputs": [],
   "source": [
    "#Define constants:\n",
    "mu_0=scipy.constants.mu_0\n",
    "pi=scipy.constants.pi"
   ]
  },
  {
   "cell_type": "code",
   "execution_count": 39,
   "metadata": {},
   "outputs": [
    {
     "name": "stdout",
     "output_type": "stream",
     "text": [
      "[0 0 0]\n"
     ]
    }
   ],
   "source": [
    "#Coordinates where we want to calculate the magnetic field:\n",
    "x_0=0\n",
    "y_0=0\n",
    "z_0=0\n",
    "r_0=np.array([x_0,y_0,z_0])\n",
    "#print(r_0)\n",
    "r_start=np.array([1,1,0])\n",
    "r_end=np.array([-1,1,0])"
   ]
  },
  {
   "cell_type": "code",
   "execution_count": 40,
   "metadata": {},
   "outputs": [],
   "source": [
    "#Define some nice functions:\n",
    "#Function to normalize a vector:\n",
    "def normalize(a):\n",
    "    norm = np.linalg.norm(a)\n",
    "    if norm==0:\n",
    "        norm = 1\n",
    "    return a / norm\n",
    "\n",
    "#Function to get the sign of the angles of two vectors (e_r_01 and e_r_02) with respect to a third one (e_R):\n",
    "#angles 1 and 2 define the mathematically positive direction\n",
    "def angle_sign(def_vec1, def_vec2, ref_vec, vec_of_interest):\n",
    "    x=np.dot(np.cross(def_vec1,def_vec2),np.cross(ref_vec,vec_of_interest))\n",
    "    if x>0:\n",
    "        return 1\n",
    "    else:\n",
    "        return -1\n",
    "    "
   ]
  },
  {
   "cell_type": "code",
   "execution_count": 41,
   "metadata": {},
   "outputs": [],
   "source": [
    "# Function to calculate magnetic field created by a straight piece of wire:\n",
    "def B_straight_line(r_start,r_end,r_0,I):\n",
    "    '''r_0 is the point where the B-field is calculated, the wire starts at r_start and ends at r_end, I is the current from r-start to r_end'''\n",
    "    #Define vectors and corresponding unit vectors:\n",
    "    r_01=r_start-r_0\n",
    "    e_r_01=normalize(r_01)\n",
    "    r_02=r_end-r_0\n",
    "    e_r_02=normalize(r_02)\n",
    "    r_wire=r_end-r_start\n",
    "    e_r_wire=normalize(r_wire)\n",
    "    #R is the vector from r_0 which is perpendicular to r_wire\n",
    "    e_R=np.cross(r_wire,np.cross(r_01,r_wire))/(np.linalg.norm(r_wire)*np.linalg.norm(np.cross(r_01,r_wire)))\n",
    "    R=np.linalg.norm(np.dot(r_01,e_R))*e_R\n",
    "    #checked: R is perpendicular, R has correct length and is the correct vector\n",
    "    #print(np.dot(R,r_wire)) #R perpendicular to wire if =0\n",
    "    #print(np.linalg.norm(R))\n",
    "    #print(R)\n",
    "    \n",
    "    \n",
    "    #Find angles of r_start and r_end with respect to e_R:\n",
    "    #Problem: By just taking the vector product or the dot product you get positive angles. So the plan is to use the dot product between e_r_01 and e_r_02 to define a right-handed system. If the dot-product of e_R with e_r_01/e_r_02 is in the same direction, their angle is positive with respect to e_R. -> See Function angle_sign(). \n",
    "    alpha_1=angle_sign(e_r_01,e_r_02,e_R,e_r_01)*np.arccos((np.linalg.norm(np.cross(r_start,r_wire)))/(np.linalg.norm(r_start)*np.linalg.norm(r_wire)))\n",
    "    alpha_2=angle_sign(e_r_01,e_r_02,e_R,e_r_02)*np.arccos((np.linalg.norm(np.cross(r_end,r_wire)))/(np.linalg.norm(r_end)*np.linalg.norm(r_wire)))\n",
    "    #Check angles:\n",
    "    #print(alpha_1*360/(2*pi),alpha_2*360/(2*pi))\n",
    "    \n",
    "    #Get the unit vector of the B-field\n",
    "    e_t=np.cross(e_R,e_r_wire)\n",
    "    #print(e_t)\n",
    "    \n",
    "    return mu_0*I/(4*pi*np.linalg.norm(R))*(np.sin(alpha_2)-np.sin(alpha_1))*e_t"
   ]
  },
  {
   "cell_type": "code",
   "execution_count": 42,
   "metadata": {},
   "outputs": [
    {
     "name": "stdout",
     "output_type": "stream",
     "text": [
      "[  2.30940108e-06   0.00000000e+00   0.00000000e+00]\n"
     ]
    }
   ],
   "source": [
    "#Check formula B_straight_line:\n",
    "# Use a very long wire along the x-axis and get the B-field at arbitrary points in space\n",
    "#Coordinates where we want to calculate the magnetic field:\n",
    "x_0=0\n",
    "y_0=10\n",
    "z_0=0\n",
    "r_0=np.array([x_0,y_0,z_0])\n",
    "#print(r_0)\n",
    "r_start=np.array([-10000,0,0])\n",
    "r_end=np.array([10000,0,0])\n",
    "result=B_straight_line(r_start,r_end,r_0,1)\n",
    "#print(result)\n",
    "#print(mu_0*1/(2*pi*10))\n",
    "#Direction of field and magnitude are correct\n",
    "\n",
    "#To check the formula, using a square loop with edge length a=0.1m, current I=1A and the B-field is measured at the symmetry axis in the plane of the loop\n",
    "#Wikipedia, Biot-Savart says for a square loop on the symmetry axis and in the plane of the loop:\n",
    "def square_loop_wikicheck(a,I):\n",
    "    return (mu_0*I*2/pi)*np.sqrt(2/(a**2))\n",
    "#print(square_loop_wikicheck(0.2,1))\n",
    "#My straight-line-function\n",
    "x_0=0\n",
    "y_0=0\n",
    "z_0=0\n",
    "r_0=np.array([x_0,y_0,z_0])\n",
    "square_loop=B_straight_line(np.array([0.1,-0.1,-0.1]),np.array([0.1,0.1,-0.1]),r_0,1)+B_straight_line(np.array([0.1,0.1,-0.1]),np.array([0.1,0.1,0.1]),r_0,1)+B_straight_line(np.array([0.1,0.1,0.1]),np.array([0.1,-0.1,0.1]),r_0,1)+B_straight_line(np.array([0.1,-0.1,0.1]),np.array([0.1,-0.1,-0.1]),r_0,1)\n",
    "#print(square_loop)\n",
    "#Test passed"
   ]
  },
  {
   "cell_type": "code",
   "execution_count": 43,
   "metadata": {},
   "outputs": [
    {
     "name": "stdout",
     "output_type": "stream",
     "text": [
      "2.22144146908e-06\n"
     ]
    }
   ],
   "source": [
    "#Formula for a circular loop with radius R, B-field measured on axis with distance z to the plane of the loop\n",
    "def B_circular_loop_onaxis(z,R,I):\n",
    "    return mu_0*I*R**2/(2*np.power(R**2+z**2,1.5))\n",
    "\n",
    "#print(B_circular_loop_onaxis(0.1,0.1,1))"
   ]
  },
  {
   "cell_type": "code",
   "execution_count": 47,
   "metadata": {},
   "outputs": [
    {
     "name": "stdout",
     "output_type": "stream",
     "text": [
      "[  2.30940108e-06   0.00000000e+00   2.30940108e-06]\n"
     ]
    }
   ],
   "source": [
    "#Make function work with tuples [r_start,r_end]\n",
    "def B_field(vector_list,r_0,I):\n",
    "#Map the vector tuples onto the vector arguments of B_straight line (r_start,r_end) and add all resulting B-field vectors together\n",
    "    return np.sum((map(lambda (r_start,r_end): B_straight_line(r_start,r_end,r_0,I), vector_list)), axis=0)\n",
    "\n",
    "\n",
    "#my_list=[(np.array([0.1,-0.1,-0.1]),np.array([0.1,0.1,-0.1])),(np.array([0.1,-0.1,-0.1]),np.array([0.1,0.1,-0.1])),(np.array([0.1,-0.1,-0.1]),np.array([0.1,0.1,-0.1])),(np.array([0.1,-0.1,-0.1]),np.array([0.1,0.1,-0.1]))]\n",
    "\n",
    "#print(B_field(my_list,r_0,1))\n",
    "\n"
   ]
  },
  {
   "cell_type": "code",
   "execution_count": 104,
   "metadata": {},
   "outputs": [
    {
     "name": "stdout",
     "output_type": "stream",
     "text": [
      "[(array([-0.98559856, -0.23914631,  0.98559856]), array([ 0.16910198, -1.39384685, -0.16910198])), (array([ 0.16910198, -1.39384685, -0.16910198]), array([ 0.98559856,  0.23914631, -0.98559856])), (array([ 0.98559856,  0.23914631, -0.98559856]), array([-0.16910198,  1.39384685,  0.16910198])), (array([-0.16910198,  1.39384685,  0.16910198]), array([-0.98559856, -0.23914631,  0.98559856]))]\n"
     ]
    }
   ],
   "source": [
    "#Create a function that creates list of vector tuples of a regular polygon loop:\n",
    "\n",
    "# Function to create rotation matrix:\n",
    "def rotation_matrix(axis, theta):\n",
    "    \"\"\"\n",
    "    Return the rotation matrix associated with counterclockwise rotation about\n",
    "    the given axis (np.array) by theta radians. See Euler–Rodrigues formula (Wikipedia)\n",
    "    \"\"\"\n",
    "    axis = normalize(axis)\n",
    "    a = np.cos(theta/2.0)\n",
    "    b, c, d = -axis*np.sin(theta/2.0)\n",
    "    aa, bb, cc, dd = a*a, b*b, c*c, d*d\n",
    "    bc, ad, ac, ab, bd, cd = b*c, a*d, a*c, a*b, b*d, c*d\n",
    "    return np.array([[aa+bb-cc-dd, 2*(bc+ad), 2*(bd-ac)],\n",
    "                     [2*(bc-ad), aa+cc-bb-dd, 2*(cd+ab)],\n",
    "                     [2*(bd+ac), 2*(cd-ab), aa+dd-bb-cc]])\n",
    "\n",
    "def theta(N):\n",
    "    return 2*pi/N\n",
    "\n",
    "def tuple_list_single_loop(N,e_normal,e_start_side,r_center,r_in):\n",
    "    #ToDo include normalization of all e_... input vectors\n",
    "    #include a test that e_start and e_normal are perpendicular\n",
    "    r_out=r_in/(np.cos(pi/N))\n",
    "    e_start_corner=np.dot(rotation_matrix(e_normal,theta(N)/2),e_start_side) \n",
    "    r_start_corner=r_out*e_start_corner\n",
    "    \n",
    "    \n",
    "    \n",
    "    #Create list of vector tuples:\n",
    "    #Use the starting edge vector and rotate it around the symmetry axis by 2pi/N to get the next corner. Every segment goes from one to the next corner.\n",
    "    tuple_list=[(r_center+np.dot(rotation_matrix(e_normal,i*theta(N)),r_start_corner),r_center+np.dot(rotation_matrix(e_normal,(i+1)*theta(N)),r_start_corner)) for i in range(N)]\n",
    "    return tuple_list\n",
    "\n",
    "#corner_vector_list=[np.dot(rotation_matrix(e_normal,i*theta),r_start_corner) for i in range(N)]\n",
    "#print(corner_vector_list)\n",
    "e_normal=np.array([1,0,0])/np.linalg.norm(np.array([1,0,]))\n",
    "e_start_side=np.array([-1,1,1])/np.linalg.norm(np.array([-1,1,1]))\n",
    "r_center=np.array([0,0,0])\n",
    "N=4\n",
    "r_in=1\n",
    "print(tuple_list_single_loop(4,e_normal,e_start_side,r_center,r_in))"
   ]
  },
  {
   "cell_type": "code",
   "execution_count": null,
   "metadata": {},
   "outputs": [],
   "source": []
  }
 ],
 "metadata": {
  "kernelspec": {
   "display_name": "Python 3",
   "language": "python",
   "name": "python3"
  },
  "language_info": {
   "codemirror_mode": {
    "name": "ipython",
    "version": 2
   },
   "file_extension": ".py",
   "mimetype": "text/x-python",
   "name": "python",
   "nbconvert_exporter": "python",
   "pygments_lexer": "ipython2",
   "version": "2.7.12"
  }
 },
 "nbformat": 4,
 "nbformat_minor": 2
}
