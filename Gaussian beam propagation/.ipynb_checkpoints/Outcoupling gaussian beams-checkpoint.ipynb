{
 "cells": [
  {
   "cell_type": "markdown",
   "metadata": {},
   "source": [
    "Calculate beam parameters after the outcoupler. Project is sleeping at the moment."
   ]
  },
  {
   "cell_type": "code",
   "execution_count": 1,
   "metadata": {},
   "outputs": [],
   "source": [
    "#Import area\n",
    "import numpy as np\n",
    "from sympy.physics.optics import rayleigh2waist, BeamParameter, FreeSpace, CurvedRefraction, FlatRefraction, ThinLens\n",
    "import sympy as sp\n",
    "from sympy.plotting import plot\n",
    "from sympy.utilities.lambdify import lambdify\n",
    "import operator\n",
    "import matplotlib.pyplot as plt\n",
    "from sympy import I,re,im"
   ]
  },
  {
   "cell_type": "code",
   "execution_count": null,
   "metadata": {},
   "outputs": [],
   "source": [
    "# Calculate beam propagation by multiplying the propagation matrices:\n",
    "def calculateBeam(p, matrix_list):\n",
    "    mat = reduce(operator.mul, matrix_list[::-1], 1)  # Multiply matrices\n",
    "    print(mat)\n",
    "    return mat * p\n",
    "\n",
    "def calculateBeamInv(p, matrix_list):\n",
    "    matrix_list_inv = [i.inv() for i in matrix_list]\n",
    "    mat = reduce(operator.mul, matrix_list_inv[::], 1)  # Multiply matrices\n",
    "    print(mat)\n",
    "    return mat * p\n",
    "\n",
    "def calculate_z(w,w_0,r_curv,wavelength):\n",
    "    return -sp.sign(r_curv)*(np.pi*w_0**2/wavelength)*((w/w_0)**2-1.0)**0.5\n",
    "\n",
    "\n",
    "#Calculate beam_parameters inside cavity:\n",
    "def rayleigh_length(z, r_curv_at_z):\n",
    "    return sp.sqrt(z*(r_curv_at_z-z))"
   ]
  },
  {
   "cell_type": "code",
   "execution_count": null,
   "metadata": {},
   "outputs": [],
   "source": [
    "#Define important constants\n",
    "\n",
    "um=10**(-6)\n",
    "nm=10**(-9)\n",
    "lambda_960=960*nm\n",
    "lambda_780=780*nm\n",
    "lambda_480=480*nm\n",
    "n_vac=1\n",
    "n_air=1.000292 #For more exact value see Edlen1966\n",
    "\n",
    "# Calculate the beam parameter representing the gaussian beam to start with:\n",
    "\n",
    "# mode field diameter =2*waist\n",
    "MFD=3.4*um\n",
    "p_coupl=BeamParameter(lambda_480,0,w=MFD_780/2)\n",
    "\n"
   ]
  },
  {
   "cell_type": "code",
   "execution_count": 1,
   "metadata": {},
   "outputs": [
    {
     "ename": "NameError",
     "evalue": "name 'um' is not defined",
     "output_type": "error",
     "traceback": [
      "\u001b[0;31m---------------------------------------------------------------------------\u001b[0m",
      "\u001b[0;31mNameError\u001b[0m                                 Traceback (most recent call last)",
      "\u001b[0;32m<ipython-input-1-47d44b397828>\u001b[0m in \u001b[0;36m<module>\u001b[0;34m()\u001b[0m\n\u001b[1;32m      1\u001b[0m \u001b[0;31m# Calculate parameters of beam coming from outcoupling lens\u001b[0m\u001b[0;34m\u001b[0m\u001b[0;34m\u001b[0m\u001b[0m\n\u001b[1;32m      2\u001b[0m \u001b[0;31m# mode field diameter =2*waist\u001b[0m\u001b[0;34m\u001b[0m\u001b[0;34m\u001b[0m\u001b[0m\n\u001b[0;32m----> 3\u001b[0;31m \u001b[0mMFD_780\u001b[0m\u001b[0;34m=\u001b[0m\u001b[0;36m4.9\u001b[0m\u001b[0;34m*\u001b[0m\u001b[0mum\u001b[0m\u001b[0;34m\u001b[0m\u001b[0m\n\u001b[0m\u001b[1;32m      4\u001b[0m \u001b[0mp_coupl_780\u001b[0m\u001b[0;34m=\u001b[0m\u001b[0mBeamParameter\u001b[0m\u001b[0;34m(\u001b[0m\u001b[0mlambda_780\u001b[0m\u001b[0;34m,\u001b[0m\u001b[0;36m0\u001b[0m\u001b[0;34m,\u001b[0m\u001b[0mw\u001b[0m\u001b[0;34m=\u001b[0m\u001b[0mMFD_780\u001b[0m\u001b[0;34m/\u001b[0m\u001b[0;36m2\u001b[0m\u001b[0;34m)\u001b[0m\u001b[0;34m\u001b[0m\u001b[0m\n\u001b[1;32m      5\u001b[0m \u001b[0;34m\u001b[0m\u001b[0m\n",
      "\u001b[0;31mNameError\u001b[0m: name 'um' is not defined"
     ]
    }
   ],
   "source": [
    "#d1 = d_outcoupling_lens\n",
    "l_outcoupling=sp.symbols('d0')\n",
    "l_coll=\n",
    "l_EIT_cell=\n",
    "f1=7.5*10**-3\n",
    "f2=150*10**-3\n",
    "\n",
    "\n",
    "coupling_opt_list=[]\n",
    "coupling_opt_list.append(FreeSpace(l_outcoupling))\n",
    "coupling_opt_list.append(ThinLens(f1))\n",
    "coupling_opt_list.append(FreeSpace(l_coll))\n",
    "coupling_opt_list.append(ThinLens(f2))\n",
    "coupling_opt_list.append(FreeSpace(l_EIT_cell))\n",
    "#coupling_opt_list.append(ThinLens(t2))\n",
    "#coupling_opt_list.append(FreeSpace(d1))\n",
    "p_final=calculateBeam(p_coupl, coupling_opt_list)\n",
    "\n",
    "#plot1=plot(p_final)\n",
    "d0_list=np.linspace(7.5*10**-3,8*10**-3,num=101)\n",
    "func_w_0 = lambdify(d0, p_final.w_0,'numpy') # returns a numpy-ready function for w_0\n",
    "func_z = lambdify(d0, calculate_z(p_final.w,p_final.w_0,p_final.radius,lambda_780),'numpy') # returns a numpy-ready function for z\n",
    "func_r= lambdify(d0, p_final.radius,'numpy') # returns a numpy-ready function for radius of curvature\n",
    "w_0_list = func_w_0(d0_list)\n",
    "z_list= func_z(d0_list)\n",
    "r_list= func_r(d0_list)\n",
    "\n",
    "\n",
    "#print(d0_list)\n",
    "#print(w_0_list)\n",
    "#print(z_list)\n",
    "#print(r_list)\n",
    "#print(p_final.w_0)\n",
    "#print(p_final.w.evalf())\n",
    "#print(calculate_z(p_final.w.n(),p_final.w_0.n(),lambda_780))\n",
    "\n",
    "#Plot w_0 with respect to d_0\n",
    "\n",
    "\n",
    "\n",
    "\n",
    "\n",
    "#Calculate Gaussian beam properties with simpler formulae taken from \"Fokussierung und opt. Abbildung in der Lasertechnik\"\n",
    "def w1(w0,f,s,lambda_0):\n",
    "    z_r0=(np.pi*w0**2)/lambda_0\n",
    "    return w0*f*sp.sqrt(1/((s-f)**2+z_r0**2))\n",
    "\n",
    "def s1(w0,f,s,lambda_0):\n",
    "    z_r0=(np.pi*w0**2)/lambda_0\n",
    "    #print(z_r0)\n",
    "    return f+(f**2*(s-f))/((s-f)**2+z_r0**2)\n",
    "\n",
    "func_w1=lambdify(d0,w1(MFD_780/2,f1,d0,lambda_780),'numpy')\n",
    "\n",
    "#w1_list_simple=func_w1(d0_list)\n",
    "w1_list_simple=[w1(MFD_780/2,f1,d0,lambda_780) for d0 in d0_list]\n",
    "s1_list_simple=[s1(MFD_780/2,f1,d0,lambda_780) for d0 in d0_list]\n",
    "#print(w1_list_simple)\n",
    "#print(s1_list_simple)\n",
    "\n",
    "plt.plot(d0_list,s1_list_simple)\n",
    "plt.plot(d0_list,z_list,'ro')\n",
    "plt.xlabel(\"s\")\n",
    "plt.ylabel(\"s'\")\n",
    "plt.show()\n",
    "\n",
    "fig1 = plt.plot(s1_list_simple,w1_list_simple)\n",
    "plt.xlabel(\"s'\")\n",
    "plt.ylabel(\"w'\")\n",
    "plt.show()"
   ]
  },
  {
   "cell_type": "code",
   "execution_count": null,
   "metadata": {},
   "outputs": [],
   "source": []
  },
  {
   "cell_type": "code",
   "execution_count": null,
   "metadata": {},
   "outputs": [],
   "source": []
  }
 ],
 "metadata": {
  "kernelspec": {
   "display_name": "Python 3",
   "language": "python",
   "name": "python3"
  },
  "language_info": {
   "codemirror_mode": {
    "name": "ipython",
    "version": 3
   },
   "file_extension": ".py",
   "mimetype": "text/x-python",
   "name": "python",
   "nbconvert_exporter": "python",
   "pygments_lexer": "ipython3",
   "version": "3.6.4"
  }
 },
 "nbformat": 4,
 "nbformat_minor": 2
}
