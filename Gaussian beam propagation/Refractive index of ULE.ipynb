{
 "cells": [
  {
   "cell_type": "markdown",
   "metadata": {},
   "source": [
    "Based on the values given by ULE Corning the refractive index of ULE glass shall be calculated for different wavelength using the sellmeier equation. As only three values for refractive indices are given, only a rough estimate for other wavelength is possible."
   ]
  },
  {
   "cell_type": "code",
   "execution_count": 46,
   "metadata": {},
   "outputs": [],
   "source": [
    "import numpy as np\n",
    "from sympy.solvers import solve\n",
    "from sympy import symbols\n"
   ]
  },
  {
   "cell_type": "code",
   "execution_count": 47,
   "metadata": {},
   "outputs": [],
   "source": [
    "#Sellmeier equation:\n",
    "B1,C1=symbols('B1 C1')\n",
    "def sellmeier(wavelength,n,B1,C1):\n",
    "    return 1+B1*wavelength**2/(wavelength**2-C1)-n**2\n",
    "\n",
    "def refr_index(wavelength,B1,C1):\n",
    "    return np.sqrt(1+B1*wavelength**2/(wavelength**2-C1))"
   ]
  },
  {
   "cell_type": "code",
   "execution_count": 48,
   "metadata": {},
   "outputs": [
    {
     "name": "stdout",
     "output_type": "stream",
     "text": [
      "{B1: -5092470506563.62*C1 + 1.21771664}\n",
      "1.16176784332446e-14\n",
      "1.15855395522396\n"
     ]
    }
   ],
   "source": [
    "#Solve equation system using the refractive indices given for 486nm and 589nm:\n",
    "nm=10**-9\n",
    "x_data=[489*nm,589*nm]\n",
    "y_data=[1.4892,1.4828]\n",
    "f=sellmeier(x_data[0],y_data[0],B1,C1)\n",
    "sol1=solve(f, (B1,C1))\n",
    "print(sol1[0])\n",
    "g=sellmeier(x_data[1],y_data[1],sol1[0][B1],C1)\n",
    "sol2=solve(g, C1)\n",
    "print(sol2[0])\n",
    "print(sol1[0][B1].subs(C1,sol2[0]))"
   ]
  },
  {
   "cell_type": "code",
   "execution_count": 49,
   "metadata": {},
   "outputs": [
    {
     "name": "stdout",
     "output_type": "stream",
     "text": [
      "(1.1617678433244572e-14, 1.1585539552239617)\n"
     ]
    },
    {
     "data": {
      "text/plain": [
       "1.4801010004690893"
      ]
     },
     "execution_count": 49,
     "metadata": {},
     "output_type": "execute_result"
    }
   ],
   "source": [
    "#Consistency check using third value given by datasheet\n",
    "c1=float(sol2[0])\n",
    "b1=float(sol1[0][B1].subs(C1,sol2[0]))\n",
    "print(c1,b1)\n",
    "refr_index(656*nm,b1,c1)"
   ]
  },
  {
   "cell_type": "code",
   "execution_count": 50,
   "metadata": {},
   "outputs": [
    {
     "name": "stdout",
     "output_type": "stream",
     "text": [
      "1.4768573906\n",
      "1.47422696004\n"
     ]
    }
   ],
   "source": [
    "# Calculate wavelength for 780nm and 960nm:\n",
    "print(refr_index(780*nm,b1,c1))\n",
    "print(refr_index(960*nm,b1,c1))"
   ]
  },
  {
   "cell_type": "code",
   "execution_count": null,
   "metadata": {},
   "outputs": [],
   "source": []
  }
 ],
 "metadata": {
  "kernelspec": {
   "display_name": "Python 3",
   "language": "python",
   "name": "python3"
  },
  "language_info": {
   "codemirror_mode": {
    "name": "ipython",
    "version": 3
   },
   "file_extension": ".py",
   "mimetype": "text/x-python",
   "name": "python",
   "nbconvert_exporter": "python",
   "pygments_lexer": "ipython3",
   "version": "3.6.4"
  }
 },
 "nbformat": 4,
 "nbformat_minor": 2
}
