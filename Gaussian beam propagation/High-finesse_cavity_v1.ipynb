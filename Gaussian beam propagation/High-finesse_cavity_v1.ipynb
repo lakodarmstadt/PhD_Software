{
 "cells": [
  {
   "cell_type": "code",
   "execution_count": 1,
   "metadata": {},
   "outputs": [],
   "source": [
    "# Script to calculate gaussian beam propagation:"
   ]
  },
  {
   "cell_type": "code",
   "execution_count": null,
   "metadata": {},
   "outputs": [],
   "source": [
    "#Version 1:\n",
    "# This script aims on calculating the optimal parameters to couple a beam out of the optical fiber and into the high-finesse cavity\n",
    "# Concept up to now:\n",
    "# Calculate waist and position of waist before the incoupling lens of the cavity\n",
    "# determine the best distance between lens and cavity as well as for outcoupling lens graphically"
   ]
  },
  {
   "cell_type": "markdown",
   "metadata": {},
   "source": [
    "General Section:\n",
    "Import modules; define functions; define constants"
   ]
  },
  {
   "cell_type": "code",
   "execution_count": 2,
   "metadata": {},
   "outputs": [],
   "source": [
    "#Import area\n",
    "import numpy as np\n",
    "from sympy.physics.optics import rayleigh2waist, BeamParameter, FreeSpace, CurvedRefraction, FlatRefraction, ThinLens\n",
    "import sympy as sp\n",
    "from sympy.plotting import plot\n",
    "from sympy.utilities.lambdify import lambdify\n",
    "import operator\n",
    "import matplotlib.pyplot as plt\n",
    "#from sympy.physics.optics import BeamParameter, GeometricRay"
   ]
  },
  {
   "cell_type": "code",
   "execution_count": 3,
   "metadata": {},
   "outputs": [],
   "source": [
    "#Define function to calculate total beam propagation matrix\n",
    "def calculateBeam(p, matrix_list):\n",
    "    mat = reduce(operator.mul, matrix_list[::-1], 1)  # Multiply matrices\n",
    "    print(mat)\n",
    "    return mat * p\n",
    "\n",
    "def calculateBeamInv(p, matrix_list):\n",
    "    matrix_list_inv = [i.inv() for i in matrix_list]\n",
    "    mat = reduce(operator.mul, matrix_list_inv[::], 1)  # Multiply matrices\n",
    "    print(mat)\n",
    "    return mat * p\n",
    "\n",
    "#Calculate the distance z using other beam parameters:\n",
    "def calculate_z(w,w_0,r_curv,wavelength):\n",
    "    return -sp.sign(r_curv)*(np.pi*w_0**2/wavelength)*((w/w_0)**2-1.0)**0.5\n",
    "\n",
    "#Calculate beam_parameters inside cavity:\n",
    "def rayleigh_length(z, r_curv_at_z):\n",
    "    return sp.sqrt(z*(r_curv_at_z-z))"
   ]
  },
  {
   "cell_type": "code",
   "execution_count": 4,
   "metadata": {},
   "outputs": [],
   "source": [
    "#Define important constants\n",
    "um=10**(-6)\n",
    "nm=10**(-9)\n",
    "lambda_960=960*nm\n",
    "lambda_780=780*nm\n",
    "n_vac=1\n",
    "n_air=1.000292\n",
    "n_ULE=1.48 #at 656nm; taken from ULE Corning datasheet\n",
    "n_entrance_window=1.5\n",
    "d_entrance_window=2*10**-3\n",
    "angle_entrance_window=2/180*np.pi\n",
    "f_incoupling_lens=0.3\n",
    "d_in=sp.symbols(\"d_in\")\n",
    "d_btw_outc_cavlens=0.7 # s'+d_in=d_btw_outc_cavlens; s' distance lens to waist outcoupler, d_in: distance waist to cavity lens\n",
    "\n",
    "# mode field diameter =2*waist\n",
    "MFD_780=4.9*um\n",
    "p_coupl_780=BeamParameter(lambda_780,0,w=MFD_780/2)\n",
    "\n",
    "d0=sp.symbols('d0')\n",
    "f_outcoupling=5*10**-3\n"
   ]
  },
  {
   "cell_type": "markdown",
   "metadata": {},
   "source": [
    "Cavity Section:\n",
    "Calculate beam properties of the beam that has to be coupled into the cavity starting from the properties of the cavity."
   ]
  },
  {
   "cell_type": "code",
   "execution_count": 5,
   "metadata": {},
   "outputs": [
    {
     "name": "stdout",
     "output_type": "stream",
     "text": [
      "(0.000222837030685367, 0.000247215489294841)\n"
     ]
    }
   ],
   "source": [
    "#Calculate the rayleigh length, which is independent of the wave length and only given by the cavity properties:\n",
    "z_r=rayleigh_length(0.1,0.5)\n",
    "\n",
    "#calculate the waist at the plane mirror:\n",
    "w_0_780nm=rayleigh2waist(rayleigh_length(0.1,0.5),lambda_780)\n",
    "w_0_960nm=rayleigh2waist(rayleigh_length(0.1,0.5),lambda_960)\n",
    "print(w_0_780nm.n(),w_0_960nm.n())\n",
    "\n",
    "#Define the beam parameters at the plane mirror:\n",
    "p_0_780nm=BeamParameter(lambda_780,0,w=w_0_780nm).n()\n",
    "p_0_960nm=BeamParameter(lambda_960,0,w=w_0_960nm).n()\n",
    "\n"
   ]
  },
  {
   "cell_type": "code",
   "execution_count": 6,
   "metadata": {},
   "outputs": [],
   "source": [
    "#List of optical elements:\n",
    "opt_element_list=[]\n",
    "opt_element_list.append(FreeSpace(0.1))\n",
    "opt_element_list.append(CurvedRefraction(0.5,n_vac,n_ULE))\n",
    "opt_element_list.append(FreeSpace(0.25*2.54*0.01))\n",
    "opt_element_list.append(FlatRefraction(n_ULE,n_vac))\n",
    "opt_element_list.append(FreeSpace(74.15*10**(-3))) #Double check: (261mm-(100mm+2*0.25*25.4mm))/2\n",
    "opt_element_list.append(FlatRefraction(n_vac,n_entrance_window))\n",
    "opt_element_list.append(FreeSpace(d_entrance_window))\n",
    "opt_element_list.append(FlatRefraction(n_entrance_window,n_vac))\n",
    "opt_element_list.append(FreeSpace(d_in))\n",
    "opt_element_list.append(ThinLens(f_incoupling_lens))\n",
    "#opt_element_list.append(FreeSpace(0.9))\n",
    "#opt_element_list.append(ThinLens(f_outcoupling))\n",
    "#opt_element_list.append(FreeSpace(d0))\n",
    "#opt_element_list.append()\n",
    "#print(opt_element_list)"
   ]
  },
  {
   "cell_type": "code",
   "execution_count": 7,
   "metadata": {},
   "outputs": [
    {
     "name": "stdout",
     "output_type": "stream",
     "text": [
      "Matrix([[-0.96*d_in + 0.923417081081081, 0.904*d_in + 0.172115581981982], [3.2*d_in - 4.03805693693694, -3.01333333333333*d_in + 0.330281393393393]])\n",
      "Matrix([[-0.96*d_in + 0.923417081081081, 0.904*d_in + 0.172115581981982], [3.2*d_in - 4.03805693693694, -3.01333333333333*d_in + 0.330281393393393]])\n"
     ]
    }
   ],
   "source": [
    "#Calculate beam_parameter for 780nm outside of the cavity:\n",
    "p1_780=calculateBeam(p_0_780nm,opt_element_list)\n",
    "#print(p1_780.radius.n())\n",
    "#print(p1_780.w.n())\n",
    "#print(p1_780.w_0.n())\n",
    "#print(calculate_z(p1_780.w.n(),p1_780.w_0.n(),p1_780.radius.n(),lambda_780))\n",
    "\n",
    "#Calculate beam_parameter for 960nm outside of the cavity:\n",
    "p1_960=calculateBeam(p_0_960nm,opt_element_list)\n",
    "#print(p1_960.radius.n())\n",
    "#print(p1_960.w.n())\n",
    "#print(p1_960.w_0.n())\n",
    "#print(calculate_z(p1_960.w.n(),p1_960.w_0.n(),p1_780.radius.n(),lambda_960))"
   ]
  },
  {
   "cell_type": "code",
   "execution_count": 8,
   "metadata": {},
   "outputs": [],
   "source": [
    "#Test backwards direction:\n",
    "\n",
    "#p_init=BeamParameter(lambda_780,-calculate_z(p1_780.w.n(),p1_780.w_0.n(),p1_780.radius.n(),lambda_780),w=p1_780.w_0.n())\n",
    "#p_final=calculateBeamInv(p_init, opt_element_list)\n",
    "#print(p_final.radius.n())\n",
    "#print(p_final.w_0.n())\n",
    "#print(calculate_z(p_final.w.n(),p_final.w_0.n(),p_final.radius.n(),lambda_780))"
   ]
  },
  {
   "cell_type": "code",
   "execution_count": 9,
   "metadata": {},
   "outputs": [
    {
     "data": {
      "image/png": "[encoded data removed]",
      "text/plain": [
       "<matplotlib.figure.Figure at 0x7fd2b62a7e90>"
      ]
     },
     "metadata": {},
     "output_type": "display_data"
    },
    {
     "data": {
      "image/png": "[encoded data removed]",
      "text/plain": [
       "<matplotlib.figure.Figure at 0x7fd2b428c310>"
      ]
     },
     "metadata": {},
     "output_type": "display_data"
    }
   ],
   "source": [
    "#Calculate incoupling waist:\n",
    "waist_in=lambdify(d_in,p1_780.w_0,'numpy')\n",
    "d_in_list=np.linspace(0.01,0.15,num=31)\n",
    "#print(waist_in(d_in_list))\n",
    "plt.plot(d_in_list,waist_in(d_in_list))\n",
    "plt.xlabel('d_in')\n",
    "plt.ylabel('waist')\n",
    "plt.show()\n",
    "\n",
    "func_z_cav_lens=lambdify(d_in,calculate_z(p1_780.w.n(),p1_780.w_0.n(),p1_780.radius.n(),lambda_780),'numpy')\n",
    "\n",
    "plt.plot(func_z_cav_lens(d_in_list),waist_in(d_in_list))\n",
    "plt.xlabel('Distance z lens to waist')\n",
    "plt.ylabel('waist')\n",
    "plt.show()"
   ]
  },
  {
   "cell_type": "markdown",
   "metadata": {},
   "source": [
    "Outcoupling Section: Calculate beam properties after the outcoupling lens"
   ]
  },
  {
   "cell_type": "code",
   "execution_count": 10,
   "metadata": {},
   "outputs": [
    {
     "name": "stdout",
     "output_type": "stream",
     "text": [
      "Matrix([[1, d0], [-200.000000000000, -200.0*d0 + 1]])\n"
     ]
    }
   ],
   "source": [
    "# Calculate parameters of beam coming from outcoupling lens\n",
    "\n",
    "\n",
    "coupling_opt_list=[]\n",
    "coupling_opt_list.append(FreeSpace(d0))\n",
    "coupling_opt_list.append(ThinLens(f_outcoupling))\n",
    "#coupling_opt_list.append(FreeSpace(f_outcoupling+t1))\n",
    "#coupling_opt_list.append(ThinLens(t1))\n",
    "#coupling_opt_list.append(FreeSpace(t1+t2))\n",
    "#coupling_opt_list.append(ThinLens(t2))\n",
    "#coupling_opt_list.append(FreeSpace(d1))\n",
    "p_final=calculateBeam(p_coupl_780, coupling_opt_list)\n",
    "\n",
    "#plot1=plot(p_final)\n",
    "d0_list=np.linspace(f_outcoupling,f_outcoupling*1.1,num=101)\n",
    "func_w_0 = lambdify(d0, p_final.w_0,'numpy') # returns a numpy-ready function for w_0\n",
    "func_z = lambdify(d0, calculate_z(p_final.w,p_final.w_0,p_final.radius,lambda_780),'numpy') # returns a numpy-ready function for z\n",
    "func_r= lambdify(d0, p_final.radius,'numpy') # returns a numpy-ready function for radius of curvature\n",
    "w_0_list = func_w_0(d0_list)\n",
    "z_list= func_z(d0_list)\n",
    "r_list= func_r(d0_list)\n",
    "\n",
    "\n",
    "#print(d0_list)\n",
    "#print(w_0_list)\n",
    "#print(z_list)\n",
    "#print(r_list)\n",
    "#print(p_final.w_0)\n",
    "#print(p_final.w.evalf())\n",
    "#print(calculate_z(p_final.w.n(),p_final.w_0.n(),lambda_780))\n",
    "\n",
    "#Plot w_0 with respect to d_0\n",
    "\n",
    "\n",
    "\n"
   ]
  },
  {
   "cell_type": "code",
   "execution_count": 11,
   "metadata": {},
   "outputs": [
    {
     "data": {
      "image/png": "[encoded data removed]",
      "text/plain": [
       "<matplotlib.figure.Figure at 0x7fd2b4091790>"
      ]
     },
     "metadata": {},
     "output_type": "display_data"
    },
    {
     "data": {
      "image/png": "[encoded data removed]",
      "text/plain": [
       "<matplotlib.figure.Figure at 0x7fd2b428c190>"
      ]
     },
     "metadata": {},
     "output_type": "display_data"
    }
   ],
   "source": [
    "#Calculate Gaussian beam properties with simpler formulae taken from \"Fokussierung und opt. Abbildung in der Lasertechnik\"\n",
    "def w1(w0,f,s,lambda_0):\n",
    "    z_r0=(np.pi*w0**2)/lambda_0\n",
    "    return w0*f*sp.sqrt(1/((s-f)**2+z_r0**2))\n",
    "\n",
    "def s1(w0,f,s,lambda_0):\n",
    "    z_r0=(np.pi*w0**2)/lambda_0\n",
    "    #print(z_r0)\n",
    "    return f+(f**2*(s-f))/((s-f)**2+z_r0**2)\n",
    "\n",
    "func_w1=lambdify(d0,w1(MFD_780/2,f_outcoupling,d0,lambda_780),'numpy')\n",
    "\n",
    "#w1_list_simple=func_w1(d0_list)\n",
    "w1_list_simple=[w1(MFD_780/2,f_outcoupling,d0,lambda_780) for d0 in d0_list]\n",
    "s1_list_simple=[s1(MFD_780/2,f_outcoupling,d0,lambda_780) for d0 in d0_list]\n",
    "#print(w1_list_simple)\n",
    "#print(s1_list_simple)\n",
    "\n",
    "plt.plot(d0_list,s1_list_simple)\n",
    "plt.plot(d0_list,z_list,'ro')\n",
    "plt.xlabel(\"s\")\n",
    "plt.ylabel(\"s'\")\n",
    "plt.show()\n",
    "\n",
    "fig1 = plt.plot(s1_list_simple,w1_list_simple)\n",
    "plt.xlabel(\"s'\")\n",
    "plt.ylabel(\"w'\")\n",
    "plt.show()"
   ]
  },
  {
   "cell_type": "markdown",
   "metadata": {},
   "source": [
    "Graphically find the overlap of beam properties between the outcoupled beam and the required incoupling beam"
   ]
  },
  {
   "cell_type": "code",
   "execution_count": 12,
   "metadata": {},
   "outputs": [
    {
     "data": {
      "image/png": "[encoded data removed]",
      "text/plain": [
       "<matplotlib.figure.Figure at 0x7fd2b4054e10>"
      ]
     },
     "metadata": {},
     "output_type": "display_data"
    }
   ],
   "source": [
    "plt.plot(func_z_cav_lens(d_in_list),waist_in(d_in_list))\n",
    "plt.plot([d_btw_outc_cavlens-i for i in s1_list_simple],w1_list_simple)\n",
    "plt.xlabel(\"z\")\n",
    "plt.ylabel(\"w'\")\n",
    "plt.show()"
   ]
  },
  {
   "cell_type": "code",
   "execution_count": null,
   "metadata": {},
   "outputs": [],
   "source": []
  }
 ],
 "metadata": {
  "kernelspec": {
   "display_name": "Python 3",
   "language": "python",
   "name": "python3"
  },
  "language_info": {
   "codemirror_mode": {
    "name": "ipython",
    "version": 2
   },
   "file_extension": ".py",
   "mimetype": "text/x-python",
   "name": "python",
   "nbconvert_exporter": "python",
   "pygments_lexer": "ipython2",
   "version": "2.7.12"
  }
 },
 "nbformat": 4,
 "nbformat_minor": 2
}
